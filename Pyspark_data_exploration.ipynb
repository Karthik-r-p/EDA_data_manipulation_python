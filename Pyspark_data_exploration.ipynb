{
 "cells": [
  {
   "cell_type": "code",
   "execution_count": 1,
   "id": "9b32a65c",
   "metadata": {},
   "outputs": [
    {
     "name": "stdout",
     "output_type": "stream",
     "text": [
      "Requirement already satisfied: pyspark in /Users/karthikrpatil/opt/anaconda3/lib/python3.9/site-packages (3.3.1)\n",
      "Requirement already satisfied: py4j==0.10.9.5 in /Users/karthikrpatil/opt/anaconda3/lib/python3.9/site-packages (from pyspark) (0.10.9.5)\n",
      "Note: you may need to restart the kernel to use updated packages.\n"
     ]
    }
   ],
   "source": [
    "pip install pyspark"
   ]
  },
  {
   "cell_type": "code",
   "execution_count": 2,
   "id": "f545d22b",
   "metadata": {},
   "outputs": [
    {
     "name": "stdout",
     "output_type": "stream",
     "text": [
      "Requirement already satisfied: findspark in /Users/karthikrpatil/opt/anaconda3/lib/python3.9/site-packages (2.0.1)\r\n"
     ]
    }
   ],
   "source": [
    "!pip install findspark"
   ]
  },
  {
   "cell_type": "code",
   "execution_count": 1,
   "id": "64be696d",
   "metadata": {},
   "outputs": [],
   "source": [
    "import pyspark"
   ]
  },
  {
   "cell_type": "code",
   "execution_count": 2,
   "id": "4eccc603",
   "metadata": {},
   "outputs": [],
   "source": [
    "from pyspark.sql import SparkSession"
   ]
  },
  {
   "cell_type": "code",
   "execution_count": 5,
   "id": "4da20acc",
   "metadata": {},
   "outputs": [],
   "source": [
    "spark= SparkSession.builder.appName('practise').getOrCreate()"
   ]
  },
  {
   "cell_type": "code",
   "execution_count": 6,
   "id": "8d842903",
   "metadata": {},
   "outputs": [
    {
     "data": {
      "text/html": [
       "\n",
       "            <div>\n",
       "                <p><b>SparkSession - in-memory</b></p>\n",
       "                \n",
       "        <div>\n",
       "            <p><b>SparkContext</b></p>\n",
       "\n",
       "            <p><a href=\"http://192.168.0.231:4040\">Spark UI</a></p>\n",
       "\n",
       "            <dl>\n",
       "              <dt>Version</dt>\n",
       "                <dd><code>v3.3.1</code></dd>\n",
       "              <dt>Master</dt>\n",
       "                <dd><code>local[*]</code></dd>\n",
       "              <dt>AppName</dt>\n",
       "                <dd><code>practise</code></dd>\n",
       "            </dl>\n",
       "        </div>\n",
       "        \n",
       "            </div>\n",
       "        "
      ],
      "text/plain": [
       "<pyspark.sql.session.SparkSession at 0x7fd1580b4ac0>"
      ]
     },
     "execution_count": 6,
     "metadata": {},
     "output_type": "execute_result"
    }
   ],
   "source": [
    "spark"
   ]
  },
  {
   "cell_type": "markdown",
   "id": "f1b81f5d",
   "metadata": {},
   "source": [
    "# Read the data frame"
   ]
  },
  {
   "cell_type": "code",
   "execution_count": 7,
   "id": "7393d556",
   "metadata": {},
   "outputs": [
    {
     "name": "stderr",
     "output_type": "stream",
     "text": [
      "                                                                                \r"
     ]
    }
   ],
   "source": [
    "df= spark.read.csv('predict_property_data.csv', header= True, inferSchema= True)"
   ]
  },
  {
   "cell_type": "code",
   "execution_count": 8,
   "id": "7db1f34e",
   "metadata": {},
   "outputs": [
    {
     "name": "stdout",
     "output_type": "stream",
     "text": [
      "23/01/11 14:59:15 WARN package: Truncated the string representation of a plan since it was too large. This behavior can be adjusted by setting 'spark.sql.debug.maxToStringFields'.\n"
     ]
    },
    {
     "data": {
      "text/plain": [
       "[Row(pid=1, meta_class=203, meta_town_code=35, meta_nbhd=35030, meta_certified_est_bldg=181470, meta_certified_est_land=33110, meta_cdu='NA', meta_deed_type='W', char_hd_sf=7791, char_age=52, char_apts='NA', char_ext_wall='1', char_roof_cnst='1', char_rooms=5, char_beds=4, char_bsmt='3', char_bsmt_fin='1', char_heat='1', char_oheat='5', char_air='1', char_frpl='0', char_attic_type='3', char_fbath=2, char_hbath=1, char_tp_plan='2', char_tp_dsgn='2', char_cnst_qlty='2', char_site='2', char_gar1_size='3', char_gar1_cnst='1', char_gar1_att='1', char_gar1_area='2', char_ot_impr=0, char_bldg_sf=1390, char_repair_cnd='2', char_use='1', char_type_resd='1', char_attic_fnsh='NA', char_renovation='NA', char_porch='NA', geo_property_city='HANOVER PARK', geo_property_zip='60133', geo_tract_pop=4056, geo_white_perc=0.5295857988165681, geo_black_perc=0.01898422090729783, geo_asian_perc=0.05571992110453649, geo_his_perc=0.3375246548323471, geo_other_perc=0.11637080867850098, geo_fips='32746', geo_municipality='Hanover Park', geo_ohare_noise=0, geo_floodplain=0, geo_fs_flood_factor=1, geo_fs_flood_risk_direction=0, geo_withinmr100=0, geo_withinmr101300=0, geo_school_elem_district='SCHOOL DISTRICT C C 54', geo_school_hs_district='PALATINE TOWNSHIP HIGH SCHOOL  211', econ_tax_rate=10.763, econ_midincome=73313, ind_large_home=False, ind_garage='TRUE', ind_arms_length=True),\n",
       " Row(pid=2, meta_class=207, meta_town_code=29, meta_nbhd=29060, meta_certified_est_bldg=328800, meta_certified_est_land=8420, meta_cdu='NA', meta_deed_type='O', char_hd_sf=2408, char_age=5, char_apts='NA', char_ext_wall='1', char_roof_cnst='1', char_rooms=7, char_beds=3, char_bsmt='2', char_bsmt_fin='3', char_heat='1', char_oheat='5', char_air='1', char_frpl='0', char_attic_type='3', char_fbath=2, char_hbath=1, char_tp_plan='2', char_tp_dsgn='2', char_cnst_qlty='2', char_site='2', char_gar1_size='3', char_gar1_cnst='1', char_gar1_att='1', char_gar1_area='1', char_ot_impr=0, char_bldg_sf=1900, char_repair_cnd='2', char_use='1', char_type_resd='2', char_attic_fnsh='NA', char_renovation='NA', char_porch='NA', geo_property_city='PALATINE', geo_property_zip='60067', geo_tract_pop=2855, geo_white_perc=0.7765323992994746, geo_black_perc=0.00700525394045534, geo_asian_perc=0.07915936952714536, geo_his_perc=0.1190893169877408, geo_other_perc=0.03642732049036777, geo_fips='57225', geo_municipality='Palatine', geo_ohare_noise=0, geo_floodplain=0, geo_fs_flood_factor=1, geo_fs_flood_risk_direction=0, geo_withinmr100=0, geo_withinmr101300=0, geo_school_elem_district='SCHOOL DISTRICT C C  15', geo_school_hs_district='PALATINE TOWNSHIP HIGH SCHOOL  211', econ_tax_rate=9.835, econ_midincome=91122, ind_large_home=False, ind_garage='TRUE', ind_arms_length=True),\n",
       " Row(pid=3, meta_class=203, meta_town_code=39, meta_nbhd=39080, meta_certified_est_bldg=195750, meta_certified_est_land=29760, meta_cdu='NA', meta_deed_type='W', char_hd_sf=4960, char_age=73, char_apts='NA', char_ext_wall='2', char_roof_cnst='1', char_rooms=5, char_beds=2, char_bsmt='1', char_bsmt_fin='3', char_heat='1', char_oheat='5', char_air='1', char_frpl='1', char_attic_type='3', char_fbath=1, char_hbath=0, char_tp_plan='1', char_tp_dsgn='NA', char_cnst_qlty='2', char_site='2', char_gar1_size='2', char_gar1_cnst='1', char_gar1_att='1', char_gar1_area='1', char_ot_impr=0, char_bldg_sf=1023, char_repair_cnd='2', char_use='1', char_type_resd='1', char_attic_fnsh='NA', char_renovation='NA', char_porch='1', geo_property_city='EVERGREEN PARK', geo_property_zip='60805', geo_tract_pop=4691, geo_white_perc=0.7930078874440418, geo_black_perc=0.19185674696226815, geo_asian_perc=0.0, geo_his_perc=0.01513536559369004, geo_other_perc=0.0, geo_fips='24634', geo_municipality='Evergreen Park', geo_ohare_noise=0, geo_floodplain=0, geo_fs_flood_factor=3, geo_fs_flood_risk_direction=1, geo_withinmr100=0, geo_withinmr101300=0, geo_school_elem_district='SCHOOL DISTRICT  124', geo_school_hs_district='COMMUNITY HIGH SCHOOL  231', econ_tax_rate=13.318, econ_midincome=87500, ind_large_home=False, ind_garage='TRUE', ind_arms_length=True),\n",
       " Row(pid=4, meta_class=211, meta_town_code=72, meta_nbhd=72150, meta_certified_est_bldg=81620, meta_certified_est_land=30240, meta_cdu='NA', meta_deed_type='O', char_hd_sf=3780, char_age=94, char_apts='2', char_ext_wall='1', char_roof_cnst='1', char_rooms=7, char_beds=4, char_bsmt='2', char_bsmt_fin='3', char_heat='1', char_oheat='5', char_air='2', char_frpl='0', char_attic_type='3', char_fbath=2, char_hbath=0, char_tp_plan='2', char_tp_dsgn='2', char_cnst_qlty='2', char_site='2', char_gar1_size='7', char_gar1_cnst='NA', char_gar1_att='NA', char_gar1_area='NA', char_ot_impr=0, char_bldg_sf=2458, char_repair_cnd='2', char_use='2', char_type_resd='2', char_attic_fnsh='NA', char_renovation='NA', char_porch='NA', geo_property_city='CHICAGO', geo_property_zip='60629', geo_tract_pop=5157, geo_white_perc=0.00523560209424083, geo_black_perc=0.8576691875121194, geo_asian_perc=0.00174520069808027, geo_his_perc=0.12371533837502424, geo_other_perc=0.02326934264107039, geo_fips='14000', geo_municipality='Chicago', geo_ohare_noise=0, geo_floodplain=0, geo_fs_flood_factor=1, geo_fs_flood_risk_direction=0, geo_withinmr100=0, geo_withinmr101300=0, geo_school_elem_district='MCKAY', geo_school_hs_district='GAGE PARK HS', econ_tax_rate=6.934, econ_midincome=31310, ind_large_home=False, ind_garage='FALSE', ind_arms_length=True),\n",
       " Row(pid=5, meta_class=278, meta_town_code=28, meta_nbhd=28036, meta_certified_est_bldg=216050, meta_certified_est_land=95980, meta_cdu='NA', meta_deed_type='W', char_hd_sf=17451, char_age=45, char_apts='NA', char_ext_wall='3', char_roof_cnst='1', char_rooms=7, char_beds=4, char_bsmt='3', char_bsmt_fin='3', char_heat='1', char_oheat='5', char_air='1', char_frpl='1', char_attic_type='3', char_fbath=2, char_hbath=1, char_tp_plan='2', char_tp_dsgn='2', char_cnst_qlty='2', char_site='2', char_gar1_size='3', char_gar1_cnst='2', char_gar1_att='1', char_gar1_area='1', char_ot_impr=0, char_bldg_sf=2439, char_repair_cnd='2', char_use='1', char_type_resd='2', char_attic_fnsh='NA', char_renovation='NA', char_porch='NA', geo_property_city='ORLAND PARK', geo_property_zip='60462', geo_tract_pop=7020, geo_white_perc=0.8626780626780627, geo_black_perc=0.02008547008547008, geo_asian_perc=0.01039886039886039, geo_his_perc=0.0737891737891738, geo_other_perc=0.0660968660968661, geo_fips='56640', geo_municipality='Orland Park', geo_ohare_noise=0, geo_floodplain=0, geo_fs_flood_factor=6, geo_fs_flood_risk_direction=-1, geo_withinmr100=0, geo_withinmr101300=0, geo_school_elem_district='SCHOOL DISTRICT  135', geo_school_hs_district='CONSOLIDATED HIGH SCHOOL  230', econ_tax_rate=9.413, econ_midincome=91250, ind_large_home=False, ind_garage='TRUE', ind_arms_length=True)]"
      ]
     },
     "execution_count": 8,
     "metadata": {},
     "output_type": "execute_result"
    }
   ],
   "source": [
    "df.head(5)"
   ]
  },
  {
   "cell_type": "code",
   "execution_count": 9,
   "id": "e6c2f6e3",
   "metadata": {},
   "outputs": [
    {
     "data": {
      "text/plain": [
       "pyspark.sql.dataframe.DataFrame"
      ]
     },
     "execution_count": 9,
     "metadata": {},
     "output_type": "execute_result"
    }
   ],
   "source": [
    "type(df)"
   ]
  },
  {
   "cell_type": "markdown",
   "id": "4d483fc4",
   "metadata": {},
   "source": [
    "# Data types inference"
   ]
  },
  {
   "cell_type": "code",
   "execution_count": 10,
   "id": "1bffe677",
   "metadata": {},
   "outputs": [
    {
     "data": {
      "text/plain": [
       "[('pid', 'int'),\n",
       " ('meta_class', 'int'),\n",
       " ('meta_town_code', 'int'),\n",
       " ('meta_nbhd', 'int'),\n",
       " ('meta_certified_est_bldg', 'int'),\n",
       " ('meta_certified_est_land', 'int'),\n",
       " ('meta_cdu', 'string'),\n",
       " ('meta_deed_type', 'string'),\n",
       " ('char_hd_sf', 'int'),\n",
       " ('char_age', 'int'),\n",
       " ('char_apts', 'string'),\n",
       " ('char_ext_wall', 'string'),\n",
       " ('char_roof_cnst', 'string'),\n",
       " ('char_rooms', 'int'),\n",
       " ('char_beds', 'int'),\n",
       " ('char_bsmt', 'string'),\n",
       " ('char_bsmt_fin', 'string'),\n",
       " ('char_heat', 'string'),\n",
       " ('char_oheat', 'string'),\n",
       " ('char_air', 'string'),\n",
       " ('char_frpl', 'string'),\n",
       " ('char_attic_type', 'string'),\n",
       " ('char_fbath', 'int'),\n",
       " ('char_hbath', 'int'),\n",
       " ('char_tp_plan', 'string'),\n",
       " ('char_tp_dsgn', 'string'),\n",
       " ('char_cnst_qlty', 'string'),\n",
       " ('char_site', 'string'),\n",
       " ('char_gar1_size', 'string'),\n",
       " ('char_gar1_cnst', 'string'),\n",
       " ('char_gar1_att', 'string'),\n",
       " ('char_gar1_area', 'string'),\n",
       " ('char_ot_impr', 'int'),\n",
       " ('char_bldg_sf', 'int'),\n",
       " ('char_repair_cnd', 'string'),\n",
       " ('char_use', 'string'),\n",
       " ('char_type_resd', 'string'),\n",
       " ('char_attic_fnsh', 'string'),\n",
       " ('char_renovation', 'string'),\n",
       " ('char_porch', 'string'),\n",
       " ('geo_property_city', 'string'),\n",
       " ('geo_property_zip', 'string'),\n",
       " ('geo_tract_pop', 'int'),\n",
       " ('geo_white_perc', 'double'),\n",
       " ('geo_black_perc', 'double'),\n",
       " ('geo_asian_perc', 'double'),\n",
       " ('geo_his_perc', 'double'),\n",
       " ('geo_other_perc', 'double'),\n",
       " ('geo_fips', 'string'),\n",
       " ('geo_municipality', 'string'),\n",
       " ('geo_ohare_noise', 'int'),\n",
       " ('geo_floodplain', 'int'),\n",
       " ('geo_fs_flood_factor', 'int'),\n",
       " ('geo_fs_flood_risk_direction', 'int'),\n",
       " ('geo_withinmr100', 'int'),\n",
       " ('geo_withinmr101300', 'int'),\n",
       " ('geo_school_elem_district', 'string'),\n",
       " ('geo_school_hs_district', 'string'),\n",
       " ('econ_tax_rate', 'double'),\n",
       " ('econ_midincome', 'int'),\n",
       " ('ind_large_home', 'boolean'),\n",
       " ('ind_garage', 'string'),\n",
       " ('ind_arms_length', 'boolean')]"
      ]
     },
     "execution_count": 10,
     "metadata": {},
     "output_type": "execute_result"
    }
   ],
   "source": [
    "df.dtypes"
   ]
  },
  {
   "cell_type": "code",
   "execution_count": 11,
   "id": "1311110f",
   "metadata": {},
   "outputs": [
    {
     "name": "stdout",
     "output_type": "stream",
     "text": [
      "root\n",
      " |-- pid: integer (nullable = true)\n",
      " |-- meta_class: integer (nullable = true)\n",
      " |-- meta_town_code: integer (nullable = true)\n",
      " |-- meta_nbhd: integer (nullable = true)\n",
      " |-- meta_certified_est_bldg: integer (nullable = true)\n",
      " |-- meta_certified_est_land: integer (nullable = true)\n",
      " |-- meta_cdu: string (nullable = true)\n",
      " |-- meta_deed_type: string (nullable = true)\n",
      " |-- char_hd_sf: integer (nullable = true)\n",
      " |-- char_age: integer (nullable = true)\n",
      " |-- char_apts: string (nullable = true)\n",
      " |-- char_ext_wall: string (nullable = true)\n",
      " |-- char_roof_cnst: string (nullable = true)\n",
      " |-- char_rooms: integer (nullable = true)\n",
      " |-- char_beds: integer (nullable = true)\n",
      " |-- char_bsmt: string (nullable = true)\n",
      " |-- char_bsmt_fin: string (nullable = true)\n",
      " |-- char_heat: string (nullable = true)\n",
      " |-- char_oheat: string (nullable = true)\n",
      " |-- char_air: string (nullable = true)\n",
      " |-- char_frpl: string (nullable = true)\n",
      " |-- char_attic_type: string (nullable = true)\n",
      " |-- char_fbath: integer (nullable = true)\n",
      " |-- char_hbath: integer (nullable = true)\n",
      " |-- char_tp_plan: string (nullable = true)\n",
      " |-- char_tp_dsgn: string (nullable = true)\n",
      " |-- char_cnst_qlty: string (nullable = true)\n",
      " |-- char_site: string (nullable = true)\n",
      " |-- char_gar1_size: string (nullable = true)\n",
      " |-- char_gar1_cnst: string (nullable = true)\n",
      " |-- char_gar1_att: string (nullable = true)\n",
      " |-- char_gar1_area: string (nullable = true)\n",
      " |-- char_ot_impr: integer (nullable = true)\n",
      " |-- char_bldg_sf: integer (nullable = true)\n",
      " |-- char_repair_cnd: string (nullable = true)\n",
      " |-- char_use: string (nullable = true)\n",
      " |-- char_type_resd: string (nullable = true)\n",
      " |-- char_attic_fnsh: string (nullable = true)\n",
      " |-- char_renovation: string (nullable = true)\n",
      " |-- char_porch: string (nullable = true)\n",
      " |-- geo_property_city: string (nullable = true)\n",
      " |-- geo_property_zip: string (nullable = true)\n",
      " |-- geo_tract_pop: integer (nullable = true)\n",
      " |-- geo_white_perc: double (nullable = true)\n",
      " |-- geo_black_perc: double (nullable = true)\n",
      " |-- geo_asian_perc: double (nullable = true)\n",
      " |-- geo_his_perc: double (nullable = true)\n",
      " |-- geo_other_perc: double (nullable = true)\n",
      " |-- geo_fips: string (nullable = true)\n",
      " |-- geo_municipality: string (nullable = true)\n",
      " |-- geo_ohare_noise: integer (nullable = true)\n",
      " |-- geo_floodplain: integer (nullable = true)\n",
      " |-- geo_fs_flood_factor: integer (nullable = true)\n",
      " |-- geo_fs_flood_risk_direction: integer (nullable = true)\n",
      " |-- geo_withinmr100: integer (nullable = true)\n",
      " |-- geo_withinmr101300: integer (nullable = true)\n",
      " |-- geo_school_elem_district: string (nullable = true)\n",
      " |-- geo_school_hs_district: string (nullable = true)\n",
      " |-- econ_tax_rate: double (nullable = true)\n",
      " |-- econ_midincome: integer (nullable = true)\n",
      " |-- ind_large_home: boolean (nullable = true)\n",
      " |-- ind_garage: string (nullable = true)\n",
      " |-- ind_arms_length: boolean (nullable = true)\n",
      "\n"
     ]
    }
   ],
   "source": [
    "df.printSchema()"
   ]
  },
  {
   "cell_type": "code",
   "execution_count": 12,
   "id": "caaff37a",
   "metadata": {},
   "outputs": [
    {
     "data": {
      "text/plain": [
       "['pid',\n",
       " 'meta_class',\n",
       " 'meta_town_code',\n",
       " 'meta_nbhd',\n",
       " 'meta_certified_est_bldg',\n",
       " 'meta_certified_est_land',\n",
       " 'meta_cdu',\n",
       " 'meta_deed_type',\n",
       " 'char_hd_sf',\n",
       " 'char_age',\n",
       " 'char_apts',\n",
       " 'char_ext_wall',\n",
       " 'char_roof_cnst',\n",
       " 'char_rooms',\n",
       " 'char_beds',\n",
       " 'char_bsmt',\n",
       " 'char_bsmt_fin',\n",
       " 'char_heat',\n",
       " 'char_oheat',\n",
       " 'char_air',\n",
       " 'char_frpl',\n",
       " 'char_attic_type',\n",
       " 'char_fbath',\n",
       " 'char_hbath',\n",
       " 'char_tp_plan',\n",
       " 'char_tp_dsgn',\n",
       " 'char_cnst_qlty',\n",
       " 'char_site',\n",
       " 'char_gar1_size',\n",
       " 'char_gar1_cnst',\n",
       " 'char_gar1_att',\n",
       " 'char_gar1_area',\n",
       " 'char_ot_impr',\n",
       " 'char_bldg_sf',\n",
       " 'char_repair_cnd',\n",
       " 'char_use',\n",
       " 'char_type_resd',\n",
       " 'char_attic_fnsh',\n",
       " 'char_renovation',\n",
       " 'char_porch',\n",
       " 'geo_property_city',\n",
       " 'geo_property_zip',\n",
       " 'geo_tract_pop',\n",
       " 'geo_white_perc',\n",
       " 'geo_black_perc',\n",
       " 'geo_asian_perc',\n",
       " 'geo_his_perc',\n",
       " 'geo_other_perc',\n",
       " 'geo_fips',\n",
       " 'geo_municipality',\n",
       " 'geo_ohare_noise',\n",
       " 'geo_floodplain',\n",
       " 'geo_fs_flood_factor',\n",
       " 'geo_fs_flood_risk_direction',\n",
       " 'geo_withinmr100',\n",
       " 'geo_withinmr101300',\n",
       " 'geo_school_elem_district',\n",
       " 'geo_school_hs_district',\n",
       " 'econ_tax_rate',\n",
       " 'econ_midincome',\n",
       " 'ind_large_home',\n",
       " 'ind_garage',\n",
       " 'ind_arms_length']"
      ]
     },
     "execution_count": 12,
     "metadata": {},
     "output_type": "execute_result"
    }
   ],
   "source": [
    "df.columns"
   ]
  },
  {
   "cell_type": "markdown",
   "id": "1ff2ed7a",
   "metadata": {},
   "source": [
    "# Indexing in dataframes"
   ]
  },
  {
   "cell_type": "code",
   "execution_count": 13,
   "id": "c6e4e7fc",
   "metadata": {},
   "outputs": [],
   "source": [
    "df1= df.select('char_age',\n",
    " 'char_apts',\n",
    " 'char_ext_wall',\n",
    " 'char_rooms',\n",
    " 'char_beds'\n",
    " \n",
    " )"
   ]
  },
  {
   "cell_type": "code",
   "execution_count": 14,
   "id": "8ddc175d",
   "metadata": {},
   "outputs": [
    {
     "data": {
      "text/plain": [
       "pyspark.sql.dataframe.DataFrame"
      ]
     },
     "execution_count": 14,
     "metadata": {},
     "output_type": "execute_result"
    }
   ],
   "source": [
    "type(df1)"
   ]
  },
  {
   "cell_type": "code",
   "execution_count": 15,
   "id": "8e38bccc",
   "metadata": {},
   "outputs": [
    {
     "name": "stderr",
     "output_type": "stream",
     "text": [
      "\r",
      "[Stage 3:>                                                          (0 + 1) / 1]\r"
     ]
    },
    {
     "name": "stdout",
     "output_type": "stream",
     "text": [
      "+-------+-----------------+------------------+-----------------+-----------------+-----------------+\n",
      "|summary|         char_age|         char_apts|    char_ext_wall|       char_rooms|        char_beds|\n",
      "+-------+-----------------+------------------+-----------------+-----------------+-----------------+\n",
      "|  count|            10000|             10000|            10000|            10000|            10000|\n",
      "|   mean|          67.9085|2.6707416462917686|1.983991995997999|            7.116|           3.5825|\n",
      "| stddev|31.84812644514282|1.0908860255030057|0.796319249135604|3.053043744791543|1.444853802379684|\n",
      "|    min|                1|                 1|                1|                0|                0|\n",
      "|    max|              157|                NA|               NA|               42|               20|\n",
      "+-------+-----------------+------------------+-----------------+-----------------+-----------------+\n",
      "\n"
     ]
    },
    {
     "name": "stderr",
     "output_type": "stream",
     "text": [
      "\r",
      "                                                                                \r"
     ]
    }
   ],
   "source": [
    "df1.describe().show()"
   ]
  },
  {
   "cell_type": "markdown",
   "id": "2867e7fd",
   "metadata": {},
   "source": [
    "# Feature engineering- Addition, deletion and manipulation of columns"
   ]
  },
  {
   "cell_type": "code",
   "execution_count": 16,
   "id": "31fb5316",
   "metadata": {},
   "outputs": [],
   "source": [
    "df2=df1.withColumn('Age after 2 years',df['char_age']+ 2)"
   ]
  },
  {
   "cell_type": "code",
   "execution_count": 17,
   "id": "028010b9",
   "metadata": {},
   "outputs": [
    {
     "name": "stdout",
     "output_type": "stream",
     "text": [
      "+--------+---------+-------------+----------+---------+-----------------+\n",
      "|char_age|char_apts|char_ext_wall|char_rooms|char_beds|Age after 2 years|\n",
      "+--------+---------+-------------+----------+---------+-----------------+\n",
      "|      52|       NA|            1|         5|        4|               54|\n",
      "|       5|       NA|            1|         7|        3|                7|\n",
      "|      73|       NA|            2|         5|        2|               75|\n",
      "|      94|        2|            1|         7|        4|               96|\n",
      "|      45|       NA|            3|         7|        4|               47|\n",
      "|     122|        2|            2|        12|        6|              124|\n",
      "|      35|       NA|            3|         6|        3|               37|\n",
      "|      96|       NA|            2|         8|        4|               98|\n",
      "|      53|       NA|            3|         6|        3|               55|\n",
      "|      27|       NA|            3|         9|        5|               29|\n",
      "|      98|       NA|            1|         6|        3|              100|\n",
      "|      14|       NA|            2|         7|        4|               16|\n",
      "|      96|       NA|            2|         6|        2|               98|\n",
      "|      76|       NA|            3|         6|        3|               78|\n",
      "|     122|       NA|            1|         5|        2|              124|\n",
      "|      69|       NA|            2|         7|        3|               71|\n",
      "|      64|       NA|            3|         7|        3|               66|\n",
      "|      66|       NA|            2|         6|        3|               68|\n",
      "|     103|        2|            1|         6|        4|              105|\n",
      "|      68|       NA|            3|         5|        3|               70|\n",
      "+--------+---------+-------------+----------+---------+-----------------+\n",
      "only showing top 20 rows\n",
      "\n"
     ]
    }
   ],
   "source": [
    "df2.show()"
   ]
  },
  {
   "cell_type": "code",
   "execution_count": 18,
   "id": "bbd4efa3",
   "metadata": {},
   "outputs": [],
   "source": [
    "df3= df2.drop('Age after 2 years')"
   ]
  },
  {
   "cell_type": "code",
   "execution_count": 19,
   "id": "585ccc65",
   "metadata": {},
   "outputs": [
    {
     "name": "stdout",
     "output_type": "stream",
     "text": [
      "+--------+---------+-------------+----------+---------+\n",
      "|char_age|char_apts|char_ext_wall|char_rooms|char_beds|\n",
      "+--------+---------+-------------+----------+---------+\n",
      "|      52|       NA|            1|         5|        4|\n",
      "|       5|       NA|            1|         7|        3|\n",
      "|      73|       NA|            2|         5|        2|\n",
      "|      94|        2|            1|         7|        4|\n",
      "|      45|       NA|            3|         7|        4|\n",
      "|     122|        2|            2|        12|        6|\n",
      "|      35|       NA|            3|         6|        3|\n",
      "|      96|       NA|            2|         8|        4|\n",
      "|      53|       NA|            3|         6|        3|\n",
      "|      27|       NA|            3|         9|        5|\n",
      "|      98|       NA|            1|         6|        3|\n",
      "|      14|       NA|            2|         7|        4|\n",
      "|      96|       NA|            2|         6|        2|\n",
      "|      76|       NA|            3|         6|        3|\n",
      "|     122|       NA|            1|         5|        2|\n",
      "|      69|       NA|            2|         7|        3|\n",
      "|      64|       NA|            3|         7|        3|\n",
      "|      66|       NA|            2|         6|        3|\n",
      "|     103|        2|            1|         6|        4|\n",
      "|      68|       NA|            3|         5|        3|\n",
      "+--------+---------+-------------+----------+---------+\n",
      "only showing top 20 rows\n",
      "\n"
     ]
    }
   ],
   "source": [
    "df3.show()"
   ]
  },
  {
   "cell_type": "code",
   "execution_count": 20,
   "id": "f61352bf",
   "metadata": {},
   "outputs": [],
   "source": [
    "df4=df3.withColumnRenamed('char_rooms', 'no_of_rooms')"
   ]
  },
  {
   "cell_type": "code",
   "execution_count": 21,
   "id": "f040903d",
   "metadata": {},
   "outputs": [
    {
     "name": "stdout",
     "output_type": "stream",
     "text": [
      "+--------+---------+-------------+-----------+---------+\n",
      "|char_age|char_apts|char_ext_wall|no_of_rooms|char_beds|\n",
      "+--------+---------+-------------+-----------+---------+\n",
      "|      52|       NA|            1|          5|        4|\n",
      "|       5|       NA|            1|          7|        3|\n",
      "|      73|       NA|            2|          5|        2|\n",
      "|      94|        2|            1|          7|        4|\n",
      "|      45|       NA|            3|          7|        4|\n",
      "|     122|        2|            2|         12|        6|\n",
      "|      35|       NA|            3|          6|        3|\n",
      "|      96|       NA|            2|          8|        4|\n",
      "|      53|       NA|            3|          6|        3|\n",
      "|      27|       NA|            3|          9|        5|\n",
      "|      98|       NA|            1|          6|        3|\n",
      "|      14|       NA|            2|          7|        4|\n",
      "|      96|       NA|            2|          6|        2|\n",
      "|      76|       NA|            3|          6|        3|\n",
      "|     122|       NA|            1|          5|        2|\n",
      "|      69|       NA|            2|          7|        3|\n",
      "|      64|       NA|            3|          7|        3|\n",
      "|      66|       NA|            2|          6|        3|\n",
      "|     103|        2|            1|          6|        4|\n",
      "|      68|       NA|            3|          5|        3|\n",
      "+--------+---------+-------------+-----------+---------+\n",
      "only showing top 20 rows\n",
      "\n"
     ]
    }
   ],
   "source": [
    "df4.show()"
   ]
  },
  {
   "cell_type": "markdown",
   "id": "958e544a",
   "metadata": {},
   "source": [
    "# Handling null values"
   ]
  },
  {
   "cell_type": "code",
   "execution_count": 22,
   "id": "8c6d20c3",
   "metadata": {},
   "outputs": [],
   "source": [
    "df5= df4.na.drop(how='any',subset=['no_of_rooms'])\n"
   ]
  },
  {
   "cell_type": "code",
   "execution_count": 23,
   "id": "a0fd25f8",
   "metadata": {},
   "outputs": [
    {
     "name": "stdout",
     "output_type": "stream",
     "text": [
      "+--------+---------+-------------+-----------+---------+\n",
      "|char_age|char_apts|char_ext_wall|no_of_rooms|char_beds|\n",
      "+--------+---------+-------------+-----------+---------+\n",
      "|      52|       NA|            1|          5|        4|\n",
      "|       5|       NA|            1|          7|        3|\n",
      "|      73|       NA|            2|          5|        2|\n",
      "|      94|        2|            1|          7|        4|\n",
      "|      45|       NA|            3|          7|        4|\n",
      "|     122|        2|            2|         12|        6|\n",
      "|      35|       NA|            3|          6|        3|\n",
      "|      96|       NA|            2|          8|        4|\n",
      "|      53|       NA|            3|          6|        3|\n",
      "|      27|       NA|            3|          9|        5|\n",
      "|      98|       NA|            1|          6|        3|\n",
      "|      14|       NA|            2|          7|        4|\n",
      "|      96|       NA|            2|          6|        2|\n",
      "|      76|       NA|            3|          6|        3|\n",
      "|     122|       NA|            1|          5|        2|\n",
      "|      69|       NA|            2|          7|        3|\n",
      "|      64|       NA|            3|          7|        3|\n",
      "|      66|       NA|            2|          6|        3|\n",
      "|     103|        2|            1|          6|        4|\n",
      "|      68|       NA|            3|          5|        3|\n",
      "+--------+---------+-------------+-----------+---------+\n",
      "only showing top 20 rows\n",
      "\n"
     ]
    }
   ],
   "source": [
    "df5.show()"
   ]
  },
  {
   "cell_type": "code",
   "execution_count": 24,
   "id": "63860041",
   "metadata": {},
   "outputs": [],
   "source": [
    "mean= df['char_beds'].mean"
   ]
  },
  {
   "cell_type": "code",
   "execution_count": 25,
   "id": "b094d98f",
   "metadata": {},
   "outputs": [],
   "source": [
    "df6= df5.na.fill('mean',['char_apts','char_beds'])"
   ]
  },
  {
   "cell_type": "code",
   "execution_count": 26,
   "id": "081806a0",
   "metadata": {},
   "outputs": [
    {
     "name": "stdout",
     "output_type": "stream",
     "text": [
      "+--------+---------+-------------+-----------+---------+\n",
      "|char_age|char_apts|char_ext_wall|no_of_rooms|char_beds|\n",
      "+--------+---------+-------------+-----------+---------+\n",
      "|      52|       NA|            1|          5|        4|\n",
      "|       5|       NA|            1|          7|        3|\n",
      "|      73|       NA|            2|          5|        2|\n",
      "|      94|        2|            1|          7|        4|\n",
      "|      45|       NA|            3|          7|        4|\n",
      "|     122|        2|            2|         12|        6|\n",
      "|      35|       NA|            3|          6|        3|\n",
      "|      96|       NA|            2|          8|        4|\n",
      "|      53|       NA|            3|          6|        3|\n",
      "|      27|       NA|            3|          9|        5|\n",
      "|      98|       NA|            1|          6|        3|\n",
      "|      14|       NA|            2|          7|        4|\n",
      "|      96|       NA|            2|          6|        2|\n",
      "|      76|       NA|            3|          6|        3|\n",
      "|     122|       NA|            1|          5|        2|\n",
      "|      69|       NA|            2|          7|        3|\n",
      "|      64|       NA|            3|          7|        3|\n",
      "|      66|       NA|            2|          6|        3|\n",
      "|     103|        2|            1|          6|        4|\n",
      "|      68|       NA|            3|          5|        3|\n",
      "+--------+---------+-------------+-----------+---------+\n",
      "only showing top 20 rows\n",
      "\n"
     ]
    }
   ],
   "source": [
    "df6.show()"
   ]
  },
  {
   "cell_type": "markdown",
   "id": "180f20eb",
   "metadata": {},
   "source": [
    "# Filtering and sorting"
   ]
  },
  {
   "cell_type": "code",
   "execution_count": 57,
   "id": "fdf30498",
   "metadata": {},
   "outputs": [],
   "source": [
    "df7= df6.filter((df6.char_beds >= 4) & (df6.no_of_rooms >=2) & (df6.char_apts != 'NA'))"
   ]
  },
  {
   "cell_type": "code",
   "execution_count": 62,
   "id": "f742a1e8",
   "metadata": {},
   "outputs": [],
   "source": [
    "df8=df7.select('char_age','char_beds', 'no_of_rooms','char_apts')"
   ]
  },
  {
   "cell_type": "code",
   "execution_count": 63,
   "id": "e6144dc5",
   "metadata": {},
   "outputs": [
    {
     "name": "stdout",
     "output_type": "stream",
     "text": [
      "+--------+---------+-----------+---------+\n",
      "|char_age|char_beds|no_of_rooms|char_apts|\n",
      "+--------+---------+-----------+---------+\n",
      "|      94|        4|          7|        2|\n",
      "|     122|        6|         12|        2|\n",
      "|     103|        4|          6|        2|\n",
      "|     157|        4|         12|        2|\n",
      "|     142|        5|          8|        3|\n",
      "|     117|        4|          6|        2|\n",
      "|     107|        6|         12|        2|\n",
      "|       3|        6|         15|        3|\n",
      "|     132|        4|          8|        2|\n",
      "|      14|        9|         15|        3|\n",
      "|     107|        7|         13|        2|\n",
      "|     101|        6|         10|        2|\n",
      "|     100|        8|         20|        3|\n",
      "|     106|        8|         16|        4|\n",
      "|     132|        4|          6|        2|\n",
      "|     129|        8|         16|        2|\n",
      "|      90|        4|         11|        2|\n",
      "|     112|        4|         10|        2|\n",
      "|     108|        4|         10|        2|\n",
      "|      30|        5|         18|        3|\n",
      "+--------+---------+-----------+---------+\n",
      "only showing top 20 rows\n",
      "\n"
     ]
    }
   ],
   "source": [
    "df8.show()"
   ]
  },
  {
   "cell_type": "code",
   "execution_count": 65,
   "id": "e91a76a0",
   "metadata": {},
   "outputs": [
    {
     "data": {
      "text/plain": [
       "1150"
      ]
     },
     "execution_count": 65,
     "metadata": {},
     "output_type": "execute_result"
    }
   ],
   "source": [
    "df8.count() "
   ]
  },
  {
   "cell_type": "code",
   "execution_count": 66,
   "id": "cd636be5",
   "metadata": {},
   "outputs": [
    {
     "data": {
      "text/plain": [
       "4"
      ]
     },
     "execution_count": 66,
     "metadata": {},
     "output_type": "execute_result"
    }
   ],
   "source": [
    "len(df8.columns)"
   ]
  },
  {
   "cell_type": "markdown",
   "id": "4ebcdbb5",
   "metadata": {},
   "source": [
    "# Groupby and aggregate functions"
   ]
  },
  {
   "cell_type": "code",
   "execution_count": 82,
   "id": "8f5503a4",
   "metadata": {},
   "outputs": [],
   "source": [
    "df9= df8.groupby(['char_beds','no_of_rooms','char_apts']).count()"
   ]
  },
  {
   "cell_type": "code",
   "execution_count": 77,
   "id": "e94f5a40",
   "metadata": {},
   "outputs": [
    {
     "name": "stdout",
     "output_type": "stream",
     "text": [
      "+---------+-----------+---------+-----+\n",
      "|char_beds|no_of_rooms|char_apts|count|\n",
      "+---------+-----------+---------+-----+\n",
      "|        5|         11|        3|    9|\n",
      "|        4|          7|        2|   40|\n",
      "|        6|         16|        2|    3|\n",
      "|        7|         11|        3|    1|\n",
      "|        4|          9|        3|    1|\n",
      "|        8|         16|        5|    2|\n",
      "|       18|         36|        6|    8|\n",
      "|        8|         10|        2|    1|\n",
      "|        6|          9|        3|    6|\n",
      "|       10|         28|        4|    1|\n",
      "|        7|         12|        2|    4|\n",
      "|        8|         24|        6|    2|\n",
      "|        6|         11|        4|    1|\n",
      "|        7|         15|        4|    3|\n",
      "|        4|         16|        4|    1|\n",
      "|        4|          9|        2|   28|\n",
      "|       12|         27|        6|    2|\n",
      "|       10|         25|        5|    1|\n",
      "|        4|         10|        3|    6|\n",
      "|       12|         24|        6|   18|\n",
      "+---------+-----------+---------+-----+\n",
      "only showing top 20 rows\n",
      "\n"
     ]
    }
   ],
   "source": [
    "df9.show()"
   ]
  },
  {
   "cell_type": "code",
   "execution_count": 104,
   "id": "39629aa2",
   "metadata": {},
   "outputs": [],
   "source": [
    "df10= df9.sort(df9['count'].asc())"
   ]
  },
  {
   "cell_type": "code",
   "execution_count": 105,
   "id": "145d30d9",
   "metadata": {},
   "outputs": [],
   "source": [
    "df11= df9.orderBy(['char_apts'],ascending=True)"
   ]
  },
  {
   "cell_type": "code",
   "execution_count": 106,
   "id": "ad3979d7",
   "metadata": {},
   "outputs": [
    {
     "name": "stdout",
     "output_type": "stream",
     "text": [
      "+---------+-----------+---------+-----+\n",
      "|char_beds|no_of_rooms|char_apts|count|\n",
      "+---------+-----------+---------+-----+\n",
      "|        8|         22|        4|    1|\n",
      "|        7|         12|        1|    1|\n",
      "|        9|         17|        3|    1|\n",
      "|        4|         11|        3|    1|\n",
      "|        6|          8|        4|    1|\n",
      "|       10|         18|        4|    1|\n",
      "|        6|         24|        6|    1|\n",
      "|        8|         14|        4|    1|\n",
      "|        8|         20|        2|    1|\n",
      "|       10|         28|        4|    1|\n",
      "|        7|         18|        3|    1|\n",
      "|        4|         16|        4|    1|\n",
      "|        5|         18|        3|    1|\n",
      "|        4|          8|        1|    1|\n",
      "|       14|         35|        6|    1|\n",
      "|        8|          6|        3|    1|\n",
      "|        6|         20|        5|    1|\n",
      "|       11|         35|        6|    1|\n",
      "|        8|         20|        6|    1|\n",
      "|       15|         36|        6|    1|\n",
      "+---------+-----------+---------+-----+\n",
      "only showing top 20 rows\n",
      "\n"
     ]
    }
   ],
   "source": [
    "df10.show()"
   ]
  },
  {
   "cell_type": "code",
   "execution_count": 101,
   "id": "54e4f5e0",
   "metadata": {},
   "outputs": [
    {
     "name": "stdout",
     "output_type": "stream",
     "text": [
      "+---------+-----------+---------+-----+\n",
      "|char_beds|no_of_rooms|char_apts|count|\n",
      "+---------+-----------+---------+-----+\n",
      "|        7|         11|        1|    1|\n",
      "|        7|         12|        1|    1|\n",
      "|        4|          8|        1|    1|\n",
      "|        5|         12|        2|    7|\n",
      "|        8|         10|        2|    1|\n",
      "|        8|         20|        2|    1|\n",
      "|        7|         14|        2|    2|\n",
      "|        6|          9|        2|    6|\n",
      "|        4|         15|        2|    2|\n",
      "|        7|         12|        2|    4|\n",
      "|        6|         12|        2|   99|\n",
      "|        6|         14|        2|    8|\n",
      "|        6|          8|        2|    3|\n",
      "|        8|         13|        2|    2|\n",
      "|        8|         12|        2|    2|\n",
      "|        8|         17|        2|    1|\n",
      "|        4|          7|        2|   40|\n",
      "|        5|          9|        2|   21|\n",
      "|        5|         14|        2|    1|\n",
      "|        8|         14|        2|    3|\n",
      "+---------+-----------+---------+-----+\n",
      "only showing top 20 rows\n",
      "\n"
     ]
    }
   ],
   "source": [
    "df11.show()"
   ]
  },
  {
   "cell_type": "code",
   "execution_count": 109,
   "id": "988048f5",
   "metadata": {},
   "outputs": [],
   "source": [
    "df12= df9.agg({'count': 'sum'})"
   ]
  },
  {
   "cell_type": "code",
   "execution_count": 111,
   "id": "b18dbca1",
   "metadata": {},
   "outputs": [
    {
     "name": "stdout",
     "output_type": "stream",
     "text": [
      "+----------+\n",
      "|sum(count)|\n",
      "+----------+\n",
      "|      1150|\n",
      "+----------+\n",
      "\n"
     ]
    }
   ],
   "source": [
    "df12.show()"
   ]
  },
  {
   "cell_type": "code",
   "execution_count": null,
   "id": "a542d3f9",
   "metadata": {},
   "outputs": [],
   "source": []
  }
 ],
 "metadata": {
  "kernelspec": {
   "display_name": "Python 3 (ipykernel)",
   "language": "python",
   "name": "python3"
  },
  "language_info": {
   "codemirror_mode": {
    "name": "ipython",
    "version": 3
   },
   "file_extension": ".py",
   "mimetype": "text/x-python",
   "name": "python",
   "nbconvert_exporter": "python",
   "pygments_lexer": "ipython3",
   "version": "3.9.12"
  }
 },
 "nbformat": 4,
 "nbformat_minor": 5
}
